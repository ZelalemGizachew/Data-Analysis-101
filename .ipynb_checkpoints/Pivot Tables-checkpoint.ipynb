{
 "cells": [
  {
   "cell_type": "code",
   "execution_count": 3,
   "id": "3133f3b1",
   "metadata": {},
   "outputs": [],
   "source": [
    "import pandas as pd"
   ]
  },
  {
   "cell_type": "markdown",
   "id": "c11aa315",
   "metadata": {},
   "source": [
    "# Pivot Table\n"
   ]
  },
  {
   "cell_type": "markdown",
   "id": "4990a949",
   "metadata": {},
   "source": [
    "## 1 - pivot() method"
   ]
  },
  {
   "cell_type": "code",
   "execution_count": 18,
   "id": "ee4a6888",
   "metadata": {
    "scrolled": true
   },
   "outputs": [
    {
     "data": {
      "text/html": [
       "<div>\n",
       "<style scoped>\n",
       "    .dataframe tbody tr th:only-of-type {\n",
       "        vertical-align: middle;\n",
       "    }\n",
       "\n",
       "    .dataframe tbody tr th {\n",
       "        vertical-align: top;\n",
       "    }\n",
       "\n",
       "    .dataframe thead th {\n",
       "        text-align: right;\n",
       "    }\n",
       "</style>\n",
       "<table border=\"1\" class=\"dataframe\">\n",
       "  <thead>\n",
       "    <tr style=\"text-align: right;\">\n",
       "      <th></th>\n",
       "      <th>unid</th>\n",
       "      <th>wbid</th>\n",
       "      <th>country</th>\n",
       "      <th>year</th>\n",
       "      <th>SES</th>\n",
       "      <th>gdppc</th>\n",
       "      <th>yrseduc</th>\n",
       "      <th>popshare</th>\n",
       "    </tr>\n",
       "  </thead>\n",
       "  <tbody>\n",
       "    <tr>\n",
       "      <th>0</th>\n",
       "      <td>4</td>\n",
       "      <td>AFG</td>\n",
       "      <td>Afghanistan</td>\n",
       "      <td>1970</td>\n",
       "      <td>3.474212</td>\n",
       "      <td>709.00000</td>\n",
       "      <td>NaN</td>\n",
       "      <td>0.003097</td>\n",
       "    </tr>\n",
       "    <tr>\n",
       "      <th>1</th>\n",
       "      <td>4</td>\n",
       "      <td>AFG</td>\n",
       "      <td>Afghanistan</td>\n",
       "      <td>1920</td>\n",
       "      <td>26.968016</td>\n",
       "      <td>731.75677</td>\n",
       "      <td>NaN</td>\n",
       "      <td>0.003245</td>\n",
       "    </tr>\n",
       "    <tr>\n",
       "      <th>2</th>\n",
       "      <td>4</td>\n",
       "      <td>AFG</td>\n",
       "      <td>Afghanistan</td>\n",
       "      <td>1990</td>\n",
       "      <td>1.269530</td>\n",
       "      <td>604.00000</td>\n",
       "      <td>NaN</td>\n",
       "      <td>0.002347</td>\n",
       "    </tr>\n",
       "    <tr>\n",
       "      <th>3</th>\n",
       "      <td>4</td>\n",
       "      <td>AFG</td>\n",
       "      <td>Afghanistan</td>\n",
       "      <td>1960</td>\n",
       "      <td>15.763076</td>\n",
       "      <td>739.00000</td>\n",
       "      <td>NaN</td>\n",
       "      <td>0.003039</td>\n",
       "    </tr>\n",
       "    <tr>\n",
       "      <th>4</th>\n",
       "      <td>4</td>\n",
       "      <td>AFG</td>\n",
       "      <td>Afghanistan</td>\n",
       "      <td>2000</td>\n",
       "      <td>2.061114</td>\n",
       "      <td>565.00000</td>\n",
       "      <td>NaN</td>\n",
       "      <td>0.003309</td>\n",
       "    </tr>\n",
       "    <tr>\n",
       "      <th>...</th>\n",
       "      <td>...</td>\n",
       "      <td>...</td>\n",
       "      <td>...</td>\n",
       "      <td>...</td>\n",
       "      <td>...</td>\n",
       "      <td>...</td>\n",
       "      <td>...</td>\n",
       "      <td>...</td>\n",
       "    </tr>\n",
       "    <tr>\n",
       "      <th>2081</th>\n",
       "      <td>716</td>\n",
       "      <td>ZWE</td>\n",
       "      <td>Zimbabwe</td>\n",
       "      <td>1940</td>\n",
       "      <td>52.746567</td>\n",
       "      <td>813.00000</td>\n",
       "      <td>NaN</td>\n",
       "      <td>0.001113</td>\n",
       "    </tr>\n",
       "    <tr>\n",
       "      <th>2082</th>\n",
       "      <td>716</td>\n",
       "      <td>ZWE</td>\n",
       "      <td>Zimbabwe</td>\n",
       "      <td>2010</td>\n",
       "      <td>27.091389</td>\n",
       "      <td>1388.97300</td>\n",
       "      <td>NaN</td>\n",
       "      <td>0.002074</td>\n",
       "    </tr>\n",
       "    <tr>\n",
       "      <th>2083</th>\n",
       "      <td>716</td>\n",
       "      <td>ZWE</td>\n",
       "      <td>Zimbabwe</td>\n",
       "      <td>1990</td>\n",
       "      <td>59.110970</td>\n",
       "      <td>2526.07230</td>\n",
       "      <td>NaN</td>\n",
       "      <td>0.002039</td>\n",
       "    </tr>\n",
       "    <tr>\n",
       "      <th>2084</th>\n",
       "      <td>716</td>\n",
       "      <td>ZWE</td>\n",
       "      <td>Zimbabwe</td>\n",
       "      <td>1900</td>\n",
       "      <td>54.722645</td>\n",
       "      <td>601.00000</td>\n",
       "      <td>NaN</td>\n",
       "      <td>0.000996</td>\n",
       "    </tr>\n",
       "    <tr>\n",
       "      <th>2085</th>\n",
       "      <td>716</td>\n",
       "      <td>ZWE</td>\n",
       "      <td>Zimbabwe</td>\n",
       "      <td>1960</td>\n",
       "      <td>53.811077</td>\n",
       "      <td>938.00000</td>\n",
       "      <td>NaN</td>\n",
       "      <td>0.001268</td>\n",
       "    </tr>\n",
       "  </tbody>\n",
       "</table>\n",
       "<p>2086 rows × 8 columns</p>\n",
       "</div>"
      ],
      "text/plain": [
       "      unid wbid      country  year        SES       gdppc  yrseduc  popshare\n",
       "0        4  AFG  Afghanistan  1970   3.474212   709.00000      NaN  0.003097\n",
       "1        4  AFG  Afghanistan  1920  26.968016   731.75677      NaN  0.003245\n",
       "2        4  AFG  Afghanistan  1990   1.269530   604.00000      NaN  0.002347\n",
       "3        4  AFG  Afghanistan  1960  15.763076   739.00000      NaN  0.003039\n",
       "4        4  AFG  Afghanistan  2000   2.061114   565.00000      NaN  0.003309\n",
       "...    ...  ...          ...   ...        ...         ...      ...       ...\n",
       "2081   716  ZWE     Zimbabwe  1940  52.746567   813.00000      NaN  0.001113\n",
       "2082   716  ZWE     Zimbabwe  2010  27.091389  1388.97300      NaN  0.002074\n",
       "2083   716  ZWE     Zimbabwe  1990  59.110970  2526.07230      NaN  0.002039\n",
       "2084   716  ZWE     Zimbabwe  1900  54.722645   601.00000      NaN  0.000996\n",
       "2085   716  ZWE     Zimbabwe  1960  53.811077   938.00000      NaN  0.001268\n",
       "\n",
       "[2086 rows x 8 columns]"
      ]
     },
     "execution_count": 18,
     "metadata": {},
     "output_type": "execute_result"
    }
   ],
   "source": [
    "df_gdp = pd.read_csv('gdp.csv', encoding='latin-1')\n",
    "df_gdp"
   ]
  },
  {
   "cell_type": "code",
   "execution_count": 27,
   "id": "5bf68d42",
   "metadata": {
    "scrolled": true
   },
   "outputs": [],
   "source": [
    "df_dgp_pivot = df_gdp.pivot(index='year', columns='country', values='gdppc')"
   ]
  },
  {
   "cell_type": "code",
   "execution_count": 28,
   "id": "44d2508c",
   "metadata": {
    "scrolled": true
   },
   "outputs": [
    {
     "data": {
      "text/plain": [
       "year\n",
       "1880     533.66669\n",
       "1890     567.33331\n",
       "1900     601.00000\n",
       "1910     628.69232\n",
       "1920     682.62964\n",
       "1930     747.81482\n",
       "1940     813.00000\n",
       "1950     390.00000\n",
       "1960     440.00000\n",
       "1970     595.00000\n",
       "1980     648.00000\n",
       "1990     652.35223\n",
       "2000     619.11432\n",
       "2010    1075.55370\n",
       "Name: Ethiopia, dtype: float64"
      ]
     },
     "execution_count": 28,
     "metadata": {},
     "output_type": "execute_result"
    }
   ],
   "source": [
    "df_dgp_pivot['Ethiopia']"
   ]
  },
  {
   "cell_type": "markdown",
   "id": "9f554769",
   "metadata": {},
   "source": [
    "## 2 - pivot_table() method"
   ]
  },
  {
   "cell_type": "code",
   "execution_count": null,
   "id": "46f5f70b",
   "metadata": {},
   "outputs": [],
   "source": [
    "pd.read_excel('supermarket_sales.xlsx')"
   ]
  }
 ],
 "metadata": {
  "kernelspec": {
   "display_name": "Python 3 (ipykernel)",
   "language": "python",
   "name": "python3"
  },
  "language_info": {
   "codemirror_mode": {
    "name": "ipython",
    "version": 3
   },
   "file_extension": ".py",
   "mimetype": "text/x-python",
   "name": "python",
   "nbconvert_exporter": "python",
   "pygments_lexer": "ipython3",
   "version": "3.9.7"
  }
 },
 "nbformat": 4,
 "nbformat_minor": 5
}
